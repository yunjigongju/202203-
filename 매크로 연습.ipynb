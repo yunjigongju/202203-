{
 "cells": [
  {
   "cell_type": "code",
   "execution_count": 3,
   "metadata": {},
   "outputs": [
    {
     "name": "stderr",
     "output_type": "stream",
     "text": [
      "C:\\Users\\Administrator\\AppData\\Local\\Temp\\ipykernel_5668\\2562564272.py:6: DeprecationWarning: executable_path has been deprecated, please pass in a Service object\n",
      "  browser = webdriver.Chrome(Chrome_path)\n"
     ]
    },
    {
     "name": "stdout",
     "output_type": "stream",
     "text": [
      "불도저에 탄 소녀\n",
      "약속의 네버랜드\n",
      "나의 집은 어디인가\n",
      "천국에서 무덤까지\n"
     ]
    },
    {
     "name": "stderr",
     "output_type": "stream",
     "text": [
      "C:\\Users\\Administrator\\AppData\\Local\\Temp\\ipykernel_5668\\2562564272.py:14: DeprecationWarning: find_element_by_css_selector is deprecated. Please use find_element(by=By.CSS_SELECTOR, value=css_selector) instead\n",
      "  b = browser.find_element_by_css_selector(f'#content > div.article > div:nth-child(1) > div.lst_wrap > ul > li:nth-child({i}) > dl > dt > a').text\n"
     ]
    }
   ],
   "source": [
    "from selenium import webdriver\n",
    "from selenium.webdriver.common import keys\n",
    "import time\n",
    "Chrome_path = 'C:\\히히호호\\chromedriver.exe'\n",
    "url = 'https://movie.naver.com/movie/running/current.naver'\n",
    "browser = webdriver.Chrome(Chrome_path)\n",
    "browser.get(url)\n",
    "\n",
    "moviename1 = '#content > div.article > div:nth-child(1) > div.lst_wrap > ul > li:nth-child(3) > dl > dt > a'\n",
    "moviename2 = '#content > div.article > div:nth-child(1) > div.lst_wrap > ul > li:nth-child(5) > dl > dt > a'\n",
    "moniename3 = '#content > div.article > div:nth-child(1) > div.lst_wrap > ul > li:nth-child(7) > dl > dt > a'\n",
    "\n",
    "for i in range(1,5): #반복문 사용해서 영화제목 가져옴\n",
    "    b = browser.find_element_by_css_selector(f'#content > div.article > div:nth-child(1) > div.lst_wrap > ul > li:nth-child({i}) > dl > dt > a').text\n",
    "    print(b)"
   ]
  }
 ],
 "metadata": {
  "interpreter": {
   "hash": "4e0b39fdc4f2df2992ef135d097972ec225e019845a073717c5b1bc8df292c8a"
  },
  "kernelspec": {
   "display_name": "Python 3.10.2 64-bit",
   "language": "python",
   "name": "python3"
  },
  "language_info": {
   "codemirror_mode": {
    "name": "ipython",
    "version": 3
   },
   "file_extension": ".py",
   "mimetype": "text/x-python",
   "name": "python",
   "nbconvert_exporter": "python",
   "pygments_lexer": "ipython3",
   "version": "3.10.2"
  },
  "orig_nbformat": 4
 },
 "nbformat": 4,
 "nbformat_minor": 2
}
