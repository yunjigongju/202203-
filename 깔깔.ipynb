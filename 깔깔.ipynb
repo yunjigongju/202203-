{
 "cells": [
  {
   "cell_type": "code",
   "execution_count": 16,
   "metadata": {},
   "outputs": [
    {
     "name": "stdout",
     "output_type": "stream",
     "text": [
      "자동차가 달립니다.\n",
      "자동차가 달립니다.\n",
      "자동차가 달립니다.\n",
      "자동차가 달립니다.\n",
      "자동차가 달립니다.\n",
      "자동차가 달립니다.\n"
     ]
    }
   ],
   "source": [
    "# 문제 : 자동차가 3번 달리게 해주세요.\n",
    "# 출력 : 자동차가 달립니다.\n",
    "\n",
    "# v1. 1개의 자동차가 3번 달리게 해주세요.\n",
    "\n",
    "# v2. 3개의 자동차가 1번씩 달리게 해주세요.\n",
    "\n",
    "# 자동차가 달립니다.\n",
    "# 자동차가 달립니다.\n",
    "# 자동차가 달립니다.\n",
    "\n",
    "# 자동차가 달립니다.\n",
    "# 자동차가 달립니다.\n",
    "# 자동차가 달립니다.\n",
    "\n",
    "class Car :\n",
    "    def drive(self) :\n",
    "        print(\"자동차가 달립니다.\")\n",
    "\n",
    "c1 = Car()\n",
    "\n",
    "c1.drive()\n",
    "c1.drive()\n",
    "c1.drive()\n",
    "\n",
    "c2 = Car()\n",
    "c3 = Car()\n",
    "\n",
    "c1.drive()\n",
    "c2.drive()\n",
    "c3.drive()"
   ]
  },
  {
   "cell_type": "code",
   "execution_count": 58,
   "metadata": {},
   "outputs": [
    {
     "name": "stdout",
     "output_type": "stream",
     "text": [
      "4살 러시안블루고양이가 아리가 야옹하고 웁니다.\n",
      "6살 샴고양이가 망고가 야옹하고 웁니다.\n",
      "이순신이 20의 데미지를 입힙니다.\n",
      "강감찬이 15의 데미지를 입힙니다.\n",
      "이순신dl 10의 데미지를 입힙니다.\n",
      "강감찬dl 15의 데미지를 입힙니다.\n"
     ]
    },
    {
     "ename": "AttributeError",
     "evalue": "'Warrior' object has no attribute 'defense'",
     "output_type": "error",
     "traceback": [
      "\u001b[1;31m---------------------------------------------------------------------------\u001b[0m",
      "\u001b[1;31mAttributeError\u001b[0m                            Traceback (most recent call last)",
      "\u001b[1;32mc:\\히히호호\\깔깔.ipynb Cell 2'\u001b[0m in \u001b[0;36m<cell line: 56>\u001b[1;34m()\u001b[0m\n\u001b[0;32m     <a href='vscode-notebook-cell:/c%3A/%ED%9E%88%ED%9E%88%ED%98%B8%ED%98%B8/%EA%B9%94%EA%B9%94.ipynb#ch0000003?line=52'>53</a>\u001b[0m w1\u001b[39m.\u001b[39mattack() \u001b[39m# 이순신이 20의 데미지를 입힙민다.\u001b[39;00m\n\u001b[0;32m     <a href='vscode-notebook-cell:/c%3A/%ED%9E%88%ED%9E%88%ED%98%B8%ED%98%B8/%EA%B9%94%EA%B9%94.ipynb#ch0000003?line=53'>54</a>\u001b[0m w2\u001b[39m.\u001b[39mattack() \u001b[39m# 강감찬이 15의 데미지를 입힙민다. \u001b[39;00m\n\u001b[1;32m---> <a href='vscode-notebook-cell:/c%3A/%ED%9E%88%ED%9E%88%ED%98%B8%ED%98%B8/%EA%B9%94%EA%B9%94.ipynb#ch0000003?line=55'>56</a>\u001b[0m w1\u001b[39m.\u001b[39;49mdefense() \u001b[39m# 이순신이 10 데미지를 방어합니다.\u001b[39;00m\n\u001b[0;32m     <a href='vscode-notebook-cell:/c%3A/%ED%9E%88%ED%9E%88%ED%98%B8%ED%98%B8/%EA%B9%94%EA%B9%94.ipynb#ch0000003?line=56'>57</a>\u001b[0m w2\u001b[39m.\u001b[39mdefense()\n",
      "\u001b[1;31mAttributeError\u001b[0m: 'Warrior' object has no attribute 'defense'"
     ]
    }
   ],
   "source": [
    "# 다음 코드가 동작하도록 class를 완성해주세요\n",
    "\n",
    "# class Person :\n",
    "#     def __init__ (self, name, age) : \n",
    "#         self.name = name\n",
    "#         self.age = age\n",
    "\n",
    "\n",
    "\n",
    "# p1 = Person(\"홍길동\", 27)\n",
    "# p2 = Person(\"홍길순\", 25)\n",
    "\n",
    "# p1.introduce() # 안녕하세요 27살 홍길동입니다.\n",
    "# p2.introduce() # 안녕하세요 25살 홍길순입니다.\n",
    "\n",
    "# c1 = Car(\"소나타\", \"하얀색\", 100)\n",
    "# c2 = Car(\"모닝\", \"검정색\", 70)\n",
    "\n",
    "# c1.drive() # 하얀색 소나타이/가 100km로 달립니다.\n",
    "# c2.drive() # 검정색 모닝이/가 70km로 달립니다.\n",
    "\n",
    "class Cat :\n",
    "    def __init__(self, name, kind, age) :\n",
    "        self.name = name\n",
    "        self.kind = kind\n",
    "        self.age = age\n",
    "    def meow(self) :\n",
    "        print(\"{}살 {}고양이가 {}가 야옹하고 웁니다.\". format(self.age, self.kind, self.name))    \n",
    "\n",
    "\n",
    "cat1 = Cat(\"아리\", \"러시안블루\", 4)\n",
    "cat2 = Cat(\"망고\", \"샴\", 6)\n",
    "\n",
    "cat1.meow() # 4살 러시안블루 고양이 아리가 야옹하고 웁니다.\n",
    "cat2.meow() # 6살 샴 고양이 망고가 야옹하고 웁니다.\n",
    "\n",
    "class Warrior :\n",
    "    def __init__(self, name, ap, dp) :\n",
    "        self.name = name\n",
    "        self.ap = ap\n",
    "        self.dp = dp\n",
    "    def status(self) :\n",
    "        print(\"{}이 {}의 데미지를 입힙니다.\". format(self.name, self.ap))\n",
    "    def attack(self) :\n",
    "        print(\"{}dl {}의 데미지를 입힙니다.\". format(self.name, self.dp))      \n",
    "\n",
    "w1 = Warrior(\"이순신\", 20, 10)\n",
    "w2 = Warrior(\"강감찬\", 15, 15)\n",
    "\n",
    "w1.status() # 이름 : 이순신, 공격력 : 20, 방어력 : 10 \n",
    "w2.status() # 이름 : 강감찬, 공격력 : 15, 방어력 : 15 \n",
    "\n",
    "w1.attack() # 이순신이 20의 데미지를 입힙민다.\n",
    "w2.attack() # 강감찬이 15의 데미지를 입힙민다. \n",
    "\n",
    "w1.defense() # 이순신이 10 데미지를 방어합니다.\n",
    "w2.defense() # 강감찬이 15 데미지를 방어합니다.\n",
    "\n"
   ]
  },
  {
   "cell_type": "code",
   "execution_count": 31,
   "metadata": {},
   "outputs": [
    {
     "name": "stdout",
     "output_type": "stream",
     "text": [
      "['c:\\\\히히호호', 'C:\\\\Users\\\\Administrator\\\\AppData\\\\Local\\\\Programs\\\\Python\\\\Python310\\\\python310.zip', 'C:\\\\Users\\\\Administrator\\\\AppData\\\\Local\\\\Programs\\\\Python\\\\Python310\\\\DLLs', 'C:\\\\Users\\\\Administrator\\\\AppData\\\\Local\\\\Programs\\\\Python\\\\Python310\\\\lib', 'C:\\\\Users\\\\Administrator\\\\AppData\\\\Local\\\\Programs\\\\Python\\\\Python310', '', 'C:\\\\Users\\\\Administrator\\\\AppData\\\\Roaming\\\\Python\\\\Python310\\\\site-packages', 'C:\\\\Users\\\\Administrator\\\\AppData\\\\Roaming\\\\Python\\\\Python310\\\\site-packages\\\\win32', 'C:\\\\Users\\\\Administrator\\\\AppData\\\\Roaming\\\\Python\\\\Python310\\\\site-packages\\\\win32\\\\lib', 'C:\\\\Users\\\\Administrator\\\\AppData\\\\Roaming\\\\Python\\\\Python310\\\\site-packages\\\\Pythonwin', 'C:\\\\Users\\\\Administrator\\\\AppData\\\\Local\\\\Programs\\\\Python\\\\Python310\\\\lib\\\\site-packages', 'C:\\\\히히호호', 'C:\\\\히히호호', 'C:\\\\히히호호', 'C:\\\\히히호호', 'C:\\\\히히호호']\n",
      "모듈의 두번째 함수입니다.\n"
     ]
    }
   ],
   "source": [
    "import sys\n",
    "print(sys.path)\n",
    "sys.path.append('C:\\히히호호')\n",
    "import ex2\n",
    "print(ex2.func1())\n",
    "ex2."
   ]
  },
  {
   "cell_type": "code",
   "execution_count": 40,
   "metadata": {},
   "outputs": [
    {
     "name": "stdout",
     "output_type": "stream",
     "text": [
      "모듈의 세번째 함수입니다.\n",
      "모듈의 첫번째  함수입니다.\n"
     ]
    }
   ],
   "source": [
    "from ex4 import func1, func3\n",
    "sys.path.append('C:\\히히호호')\n",
    "print(func3())\n",
    "print(func1())"
   ]
  },
  {
   "cell_type": "code",
   "execution_count": 51,
   "metadata": {},
   "outputs": [
    {
     "name": "stdout",
     "output_type": "stream",
     "text": [
      "C:\\히히호호\n",
      "C:\\히히호호\n",
      ".git\n",
      "ex2.py\n",
      "ex3.py\n",
      "ex4.py\n",
      "__pycache__\n",
      "깔깔\n",
      "깔깔.ipynb\n",
      "껄껄.ipynb\n",
      "낄낄\n"
     ]
    }
   ],
   "source": [
    "#현재 사용하고 있는 디렉토리\n",
    "import os\n",
    "print (os.getcwd())\n",
    "#경로 제일 마지막에 있는 폴더만 생성\n",
    "# os.mkdir('C:\\히히호호\\낄낄')\n",
    "#경로 사이에 파일 생성\n",
    "# os.makedirs(\"C:\\히히호호\\깔깔\\깔1\")\n",
    "#파일경로 이동\n",
    "os.chdir(\"C:\\히히호호\")\n",
    "print(os.getcwd())\n",
    "#입력한 경로의 파일과 폴더목록을 리스트로 반환하는 방법\n",
    "os.listdir(\"C:\\히히호호\")\n",
    "for i in os. listdir(\"C:\\히히호호\") :\n",
    "    print(i)\n"
   ]
  },
  {
   "cell_type": "code",
   "execution_count": 57,
   "metadata": {},
   "outputs": [
    {
     "name": "stdout",
     "output_type": "stream",
     "text": [
      "False\n"
     ]
    }
   ],
   "source": [
    "#특정폴더가 있는지 확인하는 함수\n",
    "print(os.path.exists(\"C:\\히히호호)\"))"
   ]
  },
  {
   "cell_type": "code",
   "execution_count": 53,
   "metadata": {},
   "outputs": [],
   "source": [
    "#rmdir() // 폴더 디렉토리 삭제\n",
    "#removedirs() // 폴더 디렉도리 삭제\n",
    "# 두 명령어 모두 삭제할 폴더가 비어있어야한다\n",
    "os.rmdir(\"C:\\히히호호\\낄낄\")"
   ]
  },
  {
   "cell_type": "code",
   "execution_count": 59,
   "metadata": {},
   "outputs": [],
   "source": [
    "\n",
    "file1 = open(\"smile.txt\",\"wt\")\n",
    "file1. write(\"hello\")\n",
    "file1.close()\n"
   ]
  },
  {
   "cell_type": "code",
   "execution_count": 60,
   "metadata": {},
   "outputs": [],
   "source": [
    "file2 = open(\"smile.txt\",\"a\")\n",
    "file2.write(\"bye\")\n",
    "file2.close()"
   ]
  },
  {
   "cell_type": "code",
   "execution_count": 1,
   "metadata": {},
   "outputs": [
    {
     "data": {
      "text/plain": [
       "['hellobye']"
      ]
     },
     "execution_count": 1,
     "metadata": {},
     "output_type": "execute_result"
    }
   ],
   "source": [
    "#전체라인 읽어올때 s가 안붙으면 한줄만 읽어옴\n",
    "file2 = open(\"smile.txt\",\"rt\")\n",
    "file2.readlines()"
   ]
  },
  {
   "cell_type": "code",
   "execution_count": null,
   "metadata": {},
   "outputs": [],
   "source": []
  }
 ],
 "metadata": {
  "interpreter": {
   "hash": "4e0b39fdc4f2df2992ef135d097972ec225e019845a073717c5b1bc8df292c8a"
  },
  "kernelspec": {
   "display_name": "Python 3.10.2 64-bit",
   "language": "python",
   "name": "python3"
  },
  "language_info": {
   "codemirror_mode": {
    "name": "ipython",
    "version": 3
   },
   "file_extension": ".py",
   "mimetype": "text/x-python",
   "name": "python",
   "nbconvert_exporter": "python",
   "pygments_lexer": "ipython3",
   "version": "3.10.2"
  },
  "orig_nbformat": 4
 },
 "nbformat": 4,
 "nbformat_minor": 2
}
