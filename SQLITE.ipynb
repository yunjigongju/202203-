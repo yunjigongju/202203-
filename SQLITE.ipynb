{
 "cells": [
  {
   "cell_type": "code",
   "execution_count": 2,
   "metadata": {},
   "outputs": [
    {
     "data": {
      "text/plain": [
       "'2.6.0'"
      ]
     },
     "execution_count": 2,
     "metadata": {},
     "output_type": "execute_result"
    }
   ],
   "source": [
    "import sqlite3\n",
    "sqlite3.version"
   ]
  },
  {
   "cell_type": "code",
   "execution_count": 4,
   "metadata": {},
   "outputs": [
    {
     "data": {
      "text/plain": [
       "<sqlite3.Cursor at 0x2ca85b524c0>"
      ]
     },
     "execution_count": 4,
     "metadata": {},
     "output_type": "execute_result"
    }
   ],
   "source": [
    "con = sqlite3.connect(\"C:\\히히호호\\깔깔\\ptest.db\")\n",
    "type(con)\n",
    "\n",
    "# 데이터베이스를 사용하기위한 기본 호출\n",
    "con.cursor()\n",
    "\n"
   ]
  },
  {
   "cell_type": "code",
   "execution_count": 5,
   "metadata": {},
   "outputs": [],
   "source": [
    "# cursor 만들어 주고 변수에 넣어 줌\n",
    "cursor = con.cursor()"
   ]
  },
  {
   "cell_type": "code",
   "execution_count": 21,
   "metadata": {},
   "outputs": [
    {
     "ename": "OperationalError",
     "evalue": "table std already exists",
     "output_type": "error",
     "traceback": [
      "\u001b[1;31m---------------------------------------------------------------------------\u001b[0m",
      "\u001b[1;31mOperationalError\u001b[0m                          Traceback (most recent call last)",
      "\u001b[1;32mc:\\히히호호\\SQLITE.ipynb Cell 4'\u001b[0m in \u001b[0;36m<cell line: 2>\u001b[1;34m()\u001b[0m\n\u001b[0;32m      <a href='vscode-notebook-cell:/c%3A/%ED%9E%88%ED%9E%88%ED%98%B8%ED%98%B8/SQLITE.ipynb#ch0000004?line=0'>1</a>\u001b[0m \u001b[39m# int는 정수 표기\u001b[39;00m\n\u001b[1;32m----> <a href='vscode-notebook-cell:/c%3A/%ED%9E%88%ED%9E%88%ED%98%B8%ED%98%B8/SQLITE.ipynb#ch0000004?line=1'>2</a>\u001b[0m cursor\u001b[39m.\u001b[39;49mexecute(\u001b[39m\"\u001b[39;49m\u001b[39mCREATE TABLE std(이름 text, 나이 int, 성적 text)\u001b[39;49m\u001b[39m\"\u001b[39;49m)\n",
      "\u001b[1;31mOperationalError\u001b[0m: table std already exists"
     ]
    }
   ],
   "source": [
    "# int는 정수 표기\n",
    "cursor.execute(\"CREATE TABLE std(이름 text, 나이 int, 성적 text)\")\n"
   ]
  },
  {
   "cell_type": "code",
   "execution_count": 15,
   "metadata": {},
   "outputs": [
    {
     "data": {
      "text/plain": [
       "<sqlite3.Cursor at 0x2ca85b51e40>"
      ]
     },
     "execution_count": 15,
     "metadata": {},
     "output_type": "execute_result"
    }
   ],
   "source": [
    "# 틀을 삭제\n",
    "cursor.execute(\"DROP TABLE std\")"
   ]
  },
  {
   "cell_type": "code",
   "execution_count": 22,
   "metadata": {},
   "outputs": [
    {
     "data": {
      "text/plain": [
       "<sqlite3.Cursor at 0x2ca85b51e40>"
      ]
     },
     "execution_count": 22,
     "metadata": {},
     "output_type": "execute_result"
    }
   ],
   "source": [
    "#테이블에 자료 추가\n",
    "cursor.execute(\"INSERT INTO std VALUES('이윤지', 31, 'a')\")"
   ]
  },
  {
   "cell_type": "code",
   "execution_count": 23,
   "metadata": {},
   "outputs": [],
   "source": [
    "# 데이터 베이스에 반영\n",
    "con.commit()"
   ]
  },
  {
   "cell_type": "code",
   "execution_count": 28,
   "metadata": {},
   "outputs": [],
   "source": [
    "cursor.execute(\"INSERT INTO std VALUES('이윤리', 35, 'a')\")\n",
    "cursor.execute(\"INSERT INTO std VALUES('이윤재', 25, 'c')\")\n",
    "cursor.execute(\"INSERT INTO std VALUES('이윤하', 39, 'g')\")\n",
    "con.commit()"
   ]
  },
  {
   "cell_type": "code",
   "execution_count": 31,
   "metadata": {},
   "outputs": [],
   "source": [
    "# 데이터를 골라서 삭제\n",
    "cursor.execute(\"DELETE FROM std WHERE 이름 = '이윤하'\")\n",
    "con.commit()"
   ]
  },
  {
   "cell_type": "code",
   "execution_count": 33,
   "metadata": {},
   "outputs": [],
   "source": [
    "# 데이터 수정 WHERE 뒤에는 바꿔야 할 데이터 지정(지정을 안해주면 수정 컬럼전체의 데이터가 전부 변경됨)\n",
    "cursor.execute(\"UPDATE std SET 나이 = 11 WHERE 나이 = 31\")\n",
    "con.commit()"
   ]
  },
  {
   "cell_type": "code",
   "execution_count": 34,
   "metadata": {},
   "outputs": [],
   "source": [
    "# 연결 해지\n",
    "con.close()"
   ]
  },
  {
   "cell_type": "code",
   "execution_count": 35,
   "metadata": {},
   "outputs": [
    {
     "data": {
      "text/plain": [
       "sqlite3.Connection"
      ]
     },
     "execution_count": 35,
     "metadata": {},
     "output_type": "execute_result"
    }
   ],
   "source": [
    "# 다시 연결\n",
    "con = sqlite3.connect(\"C:\\히히호호\\깔깔\\ptest.db\")\n",
    "type(con)\n"
   ]
  },
  {
   "cell_type": "code",
   "execution_count": 45,
   "metadata": {},
   "outputs": [
    {
     "name": "stdout",
     "output_type": "stream",
     "text": [
      "('이윤지', 11, 'a')\n",
      "('이윤지', 11, 'a')\n",
      "('이윤지', 11, 'a')\n"
     ]
    }
   ],
   "source": [
    "# 데이터 조회 SELECT *(모든컬럼) FROM 테이블이름 WHERE 조건 \n",
    "# fetchall 튜플이 리턴\n",
    "cursor = con.cursor()\n",
    "cursor.execute(\"SELECT * FROM std WHERE 이름 = '이윤지'\")\n",
    "row = cursor.fetchall()\n",
    "for i in row:\n",
    "    print(i)\n"
   ]
  },
  {
   "cell_type": "code",
   "execution_count": 52,
   "metadata": {},
   "outputs": [
    {
     "name": "stdout",
     "output_type": "stream",
     "text": [
      "('이윤지', 11, 'a')\n",
      "('이윤지', 11, 'a')\n",
      "('이윤지', 11, 'a')\n",
      "('이윤재', 25, 'c')\n",
      "('이윤재', 25, 'c')\n",
      "('이윤재', 25, 'c')\n",
      "('이윤재', 25, 'c')\n"
     ]
    }
   ],
   "source": [
    "# select 컬럼면 form 테이블명 where 컬럼명 LIKE \"이%\"(%는 글자수 상관없음) or \"이__\"(이로 시작하는 셈ㅁ글자 문자) or \"%동%\"(동을 포함한 문자)\n",
    "# 조건을 달아서 원하는 조건만 뽑아냄 : 35살 이하만 출력\n",
    "cursor.execute(\"SELECT * FROM std WHERE 나이 < 35\")\n",
    "row = cursor.fetchall()\n",
    "\n",
    "for i in row:\n",
    "    print(i)\n",
    "    "
   ]
  },
  {
   "cell_type": "code",
   "execution_count": 57,
   "metadata": {},
   "outputs": [
    {
     "name": "stdout",
     "output_type": "stream",
     "text": [
      "('이윤지', 'a')\n",
      "('이윤지', 'a')\n",
      "('이윤지', 'a')\n",
      "('이윤재', 'c')\n",
      "('이윤재', 'c')\n",
      "('이윤재', 'c')\n",
      "('이윤재', 'c')\n"
     ]
    }
   ],
   "source": [
    "# 이름과 성적만 가져오는 조건\n",
    "cursor.execute(\"SELECT 이름, 성적 FROM std WHERE 나이 < 35\")\n",
    "row = cursor.fetchall()\n",
    "\n",
    "for i in row:\n",
    "    print(i)"
   ]
  },
  {
   "cell_type": "code",
   "execution_count": 58,
   "metadata": {},
   "outputs": [
    {
     "name": "stdout",
     "output_type": "stream",
     "text": [
      "('이윤지', 11)\n",
      "('이윤지', 11)\n",
      "('이윤지', 11)\n"
     ]
    }
   ],
   "source": [
    "# 이름에 '지'자가 들어간 자료만 가져오겠다\n",
    "cursor.execute(\"SELECT 이름, 나이 FROM std WHERE 이름 LIKE '__지'\")\n",
    "row = cursor.fetchall()\n",
    "\n",
    "for i in row:\n",
    "    print(i)"
   ]
  },
  {
   "cell_type": "code",
   "execution_count": 62,
   "metadata": {},
   "outputs": [
    {
     "data": {
      "text/html": [
       "<div>\n",
       "<style scoped>\n",
       "    .dataframe tbody tr th:only-of-type {\n",
       "        vertical-align: middle;\n",
       "    }\n",
       "\n",
       "    .dataframe tbody tr th {\n",
       "        vertical-align: top;\n",
       "    }\n",
       "\n",
       "    .dataframe thead th {\n",
       "        text-align: right;\n",
       "    }\n",
       "</style>\n",
       "<table border=\"1\" class=\"dataframe\">\n",
       "  <thead>\n",
       "    <tr style=\"text-align: right;\">\n",
       "      <th></th>\n",
       "      <th>이름</th>\n",
       "      <th>나이</th>\n",
       "    </tr>\n",
       "  </thead>\n",
       "  <tbody>\n",
       "    <tr>\n",
       "      <th>0</th>\n",
       "      <td>이윤지</td>\n",
       "      <td>11</td>\n",
       "    </tr>\n",
       "    <tr>\n",
       "      <th>1</th>\n",
       "      <td>이윤지</td>\n",
       "      <td>11</td>\n",
       "    </tr>\n",
       "    <tr>\n",
       "      <th>2</th>\n",
       "      <td>이윤지</td>\n",
       "      <td>11</td>\n",
       "    </tr>\n",
       "  </tbody>\n",
       "</table>\n",
       "</div>"
      ],
      "text/plain": [
       "    이름  나이\n",
       "0  이윤지  11\n",
       "1  이윤지  11\n",
       "2  이윤지  11"
      ]
     },
     "execution_count": 62,
     "metadata": {},
     "output_type": "execute_result"
    }
   ],
   "source": [
    "# 판다스의 데이터형태로 조회\n",
    "import pandas as pd\n",
    "cursor.execute(\"SELECT 이름, 나이 FROM std WHERE 이름 LIKE '__지'\")\n",
    "row = cursor.fetchall()\n",
    "#컬럼명을 가져온다\n",
    "cols = [column[0] for column in cursor.description]\n",
    "df = pd.DataFrame.from_records(data=row, columns = cols)\n",
    "df\n"
   ]
  }
 ],
 "metadata": {
  "interpreter": {
   "hash": "4e0b39fdc4f2df2992ef135d097972ec225e019845a073717c5b1bc8df292c8a"
  },
  "kernelspec": {
   "display_name": "Python 3.10.2 64-bit",
   "language": "python",
   "name": "python3"
  },
  "language_info": {
   "codemirror_mode": {
    "name": "ipython",
    "version": 3
   },
   "file_extension": ".py",
   "mimetype": "text/x-python",
   "name": "python",
   "nbconvert_exporter": "python",
   "pygments_lexer": "ipython3",
   "version": "3.10.2"
  },
  "orig_nbformat": 4
 },
 "nbformat": 4,
 "nbformat_minor": 2
}
