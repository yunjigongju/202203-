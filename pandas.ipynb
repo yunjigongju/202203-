{
 "cells": [
  {
   "cell_type": "code",
   "execution_count": 1,
   "metadata": {},
   "outputs": [
    {
     "name": "stdout",
     "output_type": "stream",
     "text": [
      "0    1\n",
      "1    2\n",
      "2    3\n",
      "3    4\n",
      "4    8\n",
      "dtype: int64\n"
     ]
    }
   ],
   "source": [
    "#정수형 series\n",
    "import pandas as pd # as 뒤에 pd 를 써서 별칭으로 쓸수있게 만들어줌\n",
    "s = pd.Series([1,2,3,4,8])\n",
    "print(s)"
   ]
  },
  {
   "cell_type": "code",
   "execution_count": 2,
   "metadata": {},
   "outputs": [
    {
     "name": "stdout",
     "output_type": "stream",
     "text": [
      "0    1\n",
      "1    3\n",
      "2    2\n",
      "3    5\n",
      "4    3\n",
      "5    6\n",
      "6    2\n",
      "7    3\n",
      "8    1\n",
      "9    2\n",
      "dtype: int64\n"
     ]
    }
   ],
   "source": [
    "#실수형 series\n",
    "\n",
    "s = pd.Series ([1,3,2,5,3,6,2,3,1,2])\n",
    "print(s)"
   ]
  },
  {
   "cell_type": "code",
   "execution_count": 5,
   "metadata": {},
   "outputs": [
    {
     "name": "stdout",
     "output_type": "stream",
     "text": [
      "a    1\n",
      "b    3\n",
      "c    2\n",
      "d    5\n",
      "dtype: int64\n"
     ]
    }
   ],
   "source": [
    "# index 변경해주기\n",
    "\n",
    "s = pd.Series ([1,3,2,5], index=['a','b','c','d'])\n",
    "print(s)"
   ]
  },
  {
   "cell_type": "code",
   "execution_count": 14,
   "metadata": {},
   "outputs": [
    {
     "name": "stdout",
     "output_type": "stream",
     "text": [
      "[1 2 3]\n",
      "[0. 0. 0. 0. 0.]\n",
      "[1. 1. 1.]\n"
     ]
    }
   ],
   "source": [
    "import numpy as np\n",
    "a = np.array([1,2,3])\n",
    "print(a)\n",
    "b = np.zeros(5)\n",
    "print(b)\n",
    "c = np.ones(3)\n",
    "print(c)"
   ]
  },
  {
   "cell_type": "code",
   "execution_count": 13,
   "metadata": {},
   "outputs": [
    {
     "name": "stdout",
     "output_type": "stream",
     "text": [
      "[5 5 5 5]\n",
      "[4 6 6 4]\n",
      "2.5\n"
     ]
    }
   ],
   "source": [
    "#요소별 합\n",
    "a = np.array([1,2,3,4])\n",
    "b = np.array([4,3,2,1])\n",
    "print(np.add(a, b))\n",
    "#요소별 곱\n",
    "print(np.multiply(a,b))\n",
    "#요소별 평균\n",
    "print(np.mean(a))"
   ]
  },
  {
   "cell_type": "code",
   "execution_count": 19,
   "metadata": {},
   "outputs": [
    {
     "name": "stdout",
     "output_type": "stream",
     "text": [
      "[[0.91090622 0.30168104 0.3635532  0.24811647 0.5091243 ]\n",
      " [0.41600507 0.70857552 0.68706727 0.14502183 0.17206756]]\n",
      "[[0.54286297 0.01311976 0.79119347 0.36975409]\n",
      " [0.68942223 0.25101168 0.75075503 0.18733423]]\n"
     ]
    }
   ],
   "source": [
    "#0 과 1 사이에서 균일한 분포를 갖는 숫자 샘플링\n",
    "a = np.random.rand(2,5)\n",
    "print(a)\n",
    "#표준정규분포를 갖는 숫자들 샘플링\n",
    "b = np.random.rand(2,4)\n",
    "print(b)"
   ]
  },
  {
   "cell_type": "code",
   "execution_count": 21,
   "metadata": {},
   "outputs": [
    {
     "name": "stdout",
     "output_type": "stream",
     "text": [
      "3.141592653589793\n",
      "2.718281828459045\n"
     ]
    }
   ],
   "source": [
    "# 파이\n",
    "a = np.pi\n",
    "print(a)\n",
    "# 오일러 상수\n",
    "b = np.e\n",
    "print(b)"
   ]
  },
  {
   "cell_type": "code",
   "execution_count": 24,
   "metadata": {},
   "outputs": [
    {
     "name": "stdout",
     "output_type": "stream",
     "text": [
      "<class 'numpy.ndarray'>\n",
      "[1.2 5.  6.  8. ]\n",
      "float64\n"
     ]
    }
   ],
   "source": [
    "a = np.array([1.2, 5, 6, 8])\n",
    "print(type(a))\n",
    "print(a)\n",
    "#어레이 요소의 자료형을 알고싶을 때\n",
    "print(a.dtype)"
   ]
  },
  {
   "cell_type": "code",
   "execution_count": 27,
   "metadata": {},
   "outputs": [
    {
     "name": "stdout",
     "output_type": "stream",
     "text": [
      "[[1 2 3 4]\n",
      " [1 2 3 4]]\n"
     ]
    }
   ],
   "source": [
    "#여러개의 어레이를 만들고 싶을 때 \n",
    "a = np.array([[1,2,3,4],[1,2,3,4]])\n",
    "print(a)"
   ]
  },
  {
   "cell_type": "code",
   "execution_count": 28,
   "metadata": {},
   "outputs": [
    {
     "name": "stdout",
     "output_type": "stream",
     "text": [
      "[[1.+0.j 2.+0.j 3.+0.j]\n",
      " [4.+0.j 5.+0.j 6.+0.j]]\n"
     ]
    }
   ],
   "source": [
    "# 어레이 타입 지정(복소수타입으로 바꿈)\n",
    "\n",
    "a = np.array([[1,2,3],[4,5,6]],dtype = complex)\n",
    "print(a)"
   ]
  },
  {
   "cell_type": "code",
   "execution_count": 34,
   "metadata": {},
   "outputs": [
    {
     "name": "stdout",
     "output_type": "stream",
     "text": [
      "[0. 0. 0. 0. 0. 0. 0. 0. 0. 0.]\n",
      "[[[1 1 1 1]\n",
      "  [1 1 1 1]\n",
      "  [1 1 1 1]]\n",
      "\n",
      " [[1 1 1 1]\n",
      "  [1 1 1 1]\n",
      "  [1 1 1 1]]]\n"
     ]
    }
   ],
   "source": [
    "print(np.zeros(10))\n",
    "b = np.ones((2,3,4), dtype = np.int16)\n",
    "print(b)"
   ]
  },
  {
   "cell_type": "code",
   "execution_count": 43,
   "metadata": {},
   "outputs": [
    {
     "name": "stdout",
     "output_type": "stream",
     "text": [
      "   과목번호  과목명\n",
      "0     1   수학\n",
      "1     2   과학\n",
      "2     3  파이썬\n"
     ]
    }
   ],
   "source": [
    "no = [1,2,3]\n",
    "subjname = []\n",
    "subjname.append('수학')\n",
    "subjname.append('과학')\n",
    "subjname.append('파이썬')\n",
    "subject = pd.DataFrame()\n",
    "subject['과목번호'] = no\n",
    "subject['과목명'] = subjname\n",
    "print(subject)\n",
    "subject.to_excel(\"C:\\히히호호\\subject.xlsx\", index=False)"
   ]
  },
  {
   "cell_type": "code",
   "execution_count": 40,
   "metadata": {},
   "outputs": [],
   "source": [
    "#csv로 확장자 저장\n",
    "subject.to_csv(\"C:\\히히호호\\subject.csv\", encoding='utf-8-sig', index=False)"
   ]
  },
  {
   "cell_type": "code",
   "execution_count": 55,
   "metadata": {},
   "outputs": [
    {
     "name": "stdout",
     "output_type": "stream",
     "text": [
      "    이름  age      성별\n",
      "0  홍길동   20    male\n",
      "1  홍길순   50  female\n",
      "2  임꺽정   32    male\n",
      "0    홍길동\n",
      "1    홍길순\n",
      "2    임꺽정\n",
      "Name: 이름, dtype: object\n",
      "    이름  age      성별  고향\n",
      "0  홍길동   20    male  서울\n",
      "1  홍길순   50  female  부산\n",
      "2  임꺽정   32    male  대전\n",
      "34.0\n",
      "50\n",
      "20\n",
      "             age\n",
      "count   3.000000\n",
      "mean   34.000000\n",
      "std    15.099669\n",
      "min    20.000000\n",
      "25%    26.000000\n",
      "50%    32.000000\n",
      "75%    41.000000\n",
      "max    50.000000\n",
      "    이름  age      성별  고향\n",
      "0  홍길동   20    male  서울\n",
      "1  홍길순   50  female  부산\n",
      "    이름  age      성별  고향\n",
      "1  홍길순   50  female  부산\n",
      "2  임꺽정   32    male  대전\n"
     ]
    }
   ],
   "source": [
    "#데이터 프레임은 파이썬의 리스트와 딕셔너리의 조합이다.\n",
    "df = pd.DataFrame({\"이름\":[\"홍길동\",\"홍길순\",\"임꺽정\"], \"age\":[20,50,32],\"성별\":[\"male\",\"female\",\"male\"]})\n",
    "print(df)\n",
    "\n",
    "# 데이터 프레임에서 이름만 출력\n",
    "print(df[\"이름\"])\n",
    "\n",
    "# 데이터프레임에 고향컬럼 추가 \n",
    "home = pd.Series([\"서울\",\"부산\", \"대전\"], name = \"고향\")\n",
    "df[\"고향\"] = home\n",
    "print(df)\n",
    "\n",
    "# 평균, 최대값, 최솟값\n",
    "print(df[\"age\"].mean())\n",
    "print(df[\"age\"].max())\n",
    "print(df[\"age\"].min())\n",
    "\n",
    "# 전체적인 데이터 프레임의 기본 통계 내용을 출력\n",
    "print(df.describe())\n",
    "\n",
    "# head는 위에서부터 데이터를 끊어온다\n",
    "print(df.head(2))\n",
    "\n",
    "#tail은 밑에서부터 데이터를 끊어온다\n",
    "print(df.tail(2))"
   ]
  },
  {
   "cell_type": "code",
   "execution_count": 27,
   "metadata": {},
   "outputs": [
    {
     "name": "stdout",
     "output_type": "stream",
     "text": [
      "   Unnamed: 0  order_no user_id user_pass name address product    price  brand\n",
      "0           0         1   user1     pass1  손흥민      런던     운동화   100000    나이키\n",
      "1           1         2   user2     pass2   설현      서울      코트   150000    버버리\n",
      "2           2         3   user3     pass3   원빈      대전     반바지    30000   유니클로\n",
      "3           3         4   user4     pass4  송혜교      대구     스커트    55000     자라\n",
      "4           4         5   user5     pass5  소지섭      부산      코트  1100000   알레그리\n",
      "5           5         6   user6     pass6  김지원      울산     티셔츠     9900   지오다노\n",
      "6           6         7   user6     pass6  김지원      울산     운동화   220000     텐디\n",
      "7           7         8   user1     pass1  손흥민      런던     스커트    30000  크로커다일\n",
      "8           8         9   user1     pass1  손흥민      런던      코트   580000    띠어리\n",
      "3\n",
      "0    운동화\n",
      "7    스커트\n",
      "8     코트\n",
      "Name: product, dtype: object\n",
      "3    송혜교\n",
      "7    손흥민\n",
      "Name: name, dtype: object\n",
      "  user_id name  count\n",
      "0   user1  손흥민      3\n",
      "5   user6  김지원      2\n",
      "1   user2   설현      1\n",
      "2   user3   원빈      1\n",
      "3   user4  송혜교      1\n",
      "4   user5  소지섭      1\n",
      "229900\n"
     ]
    }
   ],
   "source": [
    "import pandas as pd\n",
    "df = pd.read_excel(\"order.xlsx\")\n",
    "print(df)\n",
    "\n",
    "# 1. 손흥민이 주문한 갯수는?\n",
    "is_son = df[\"name\"] == \"손흥민\"\n",
    "print(df[is_son][\"order_no\"].count())\n",
    "# 2. 손흥민이 산 상품은?\n",
    "print(df[is_son][\"product\"])\n",
    "# 3. 스커트를 산 사람은?\n",
    "skirt = df[\"product\"] == \"스커트\"\n",
    "print(df[skirt][\"name\"]) \n",
    "# 4. 가장 많이 주문한 사람의 아이디와 이름, 주문횟수는?\n",
    "newdf = df.groupby([\"user_id\",\"name\"])[\"order_no\"].count().reset_index(name = \"count\")\n",
    "\n",
    "# 기본 정렬 방식은 오름차순, 내림차순으로 정렬하고 싶을 경우 ascending = False\n",
    "newdf = newdf.sort_values(\"count\", ascending = False)\n",
    "print(newdf)\n",
    "# 5. 김지원이 사용한 총 금액은? sum()\n",
    "is_kim = df[\"name\"] == \"김지원\"\n",
    "print(df[is_kim][\"price\"].sum())"
   ]
  },
  {
   "cell_type": "code",
   "execution_count": null,
   "metadata": {},
   "outputs": [],
   "source": []
  }
 ],
 "metadata": {
  "interpreter": {
   "hash": "4e0b39fdc4f2df2992ef135d097972ec225e019845a073717c5b1bc8df292c8a"
  },
  "kernelspec": {
   "display_name": "Python 3.10.2 64-bit",
   "language": "python",
   "name": "python3"
  },
  "language_info": {
   "codemirror_mode": {
    "name": "ipython",
    "version": 3
   },
   "file_extension": ".py",
   "mimetype": "text/x-python",
   "name": "python",
   "nbconvert_exporter": "python",
   "pygments_lexer": "ipython3",
   "version": "3.10.2"
  },
  "orig_nbformat": 4
 },
 "nbformat": 4,
 "nbformat_minor": 2
}
