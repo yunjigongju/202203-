{
 "cells": [
  {
   "cell_type": "code",
   "execution_count": 1,
   "metadata": {},
   "outputs": [
    {
     "ename": "SyntaxError",
     "evalue": "invalid decimal literal (4211155186.py, line 16)",
     "output_type": "error",
     "traceback": [
      "\u001b[1;36m  Input \u001b[1;32mIn [1]\u001b[1;36m\u001b[0m\n\u001b[1;33m    저는 26살 홍길동입니다.\u001b[0m\n\u001b[1;37m        ^\u001b[0m\n\u001b[1;31mSyntaxError\u001b[0m\u001b[1;31m:\u001b[0m invalid decimal literal\n"
     ]
    }
   ],
   "source": [
    "#html\n",
    "<h1>히히히</h1>\n",
    "\n",
    "<subject>안녕하세요. 소개합니다. \n",
    "</subject>  \n",
    "\n",
    "<!--div 부모 엘리먼트   -->\n",
    "<div>\n",
    " <!-- div의 자식 엘리먼트   --> \n",
    "  <nav></nav>  \n",
    "</div>\n",
    "\n",
    "<!-- a 엘리먼트는 링크버튼(a누르고 tab 누르면됨) 뒤에 target을 붙이면 ctrol을 누르지 않아도 링크가 들어가진다-->\n",
    "<a href=\"https://www.naver.com/\"target=\"_blank\">네이버</a>\n",
    "\n",
    "<content>\n",
    "저는 26살 홍길동입니다. \n",
    "</content>  \n",
    "<!-- 줄바꿈 -->\n",
    "<br>\n",
    "저의 취미는 배드민턴입니다.\n",
    "\n",
    "\n",
    "\n",
    "\n",
    "<div>\n",
    "  <section>\n",
    "    <a href=\"#\">구글</a>\n",
    "  </section>\n",
    "  \n",
    "</div>"
   ]
  },
  {
   "cell_type": "code",
   "execution_count": null,
   "metadata": {},
   "outputs": [],
   "source": [
    "\n",
    "#css\n",
    "subject{color:red;\n",
    "background-color:blue;}\n",
    "content{color:blue;}\n",
    "\n",
    "/* '' :후손선택자(띄어쓰기해주면)\n",
    "'>' : 자식선택자\n",
    "*/\n",
    "section a{\n",
    "  color : red;\n",
    "}\n",
    "a{\n",
    "  color : gold;\n",
    "}"
   ]
  }
 ],
 "metadata": {
  "interpreter": {
   "hash": "4e0b39fdc4f2df2992ef135d097972ec225e019845a073717c5b1bc8df292c8a"
  },
  "kernelspec": {
   "display_name": "Python 3.10.2 64-bit",
   "language": "python",
   "name": "python3"
  },
  "language_info": {
   "codemirror_mode": {
    "name": "ipython",
    "version": 3
   },
   "file_extension": ".py",
   "mimetype": "text/x-python",
   "name": "python",
   "nbconvert_exporter": "python",
   "pygments_lexer": "ipython3",
   "version": "3.10.2"
  },
  "orig_nbformat": 4
 },
 "nbformat": 4,
 "nbformat_minor": 2
}
